{
 "cells": [
  {
   "cell_type": "markdown",
   "id": "70f546d6",
   "metadata": {},
   "source": [
    "### 1. In the below elements which of them are values or an expression? eg:- values can be integer or string and expressions will be mathematical operators.\n",
    "### *, 'hello', -87.8 ,- , / ,6 \n"
   ]
  },
  {
   "cell_type": "code",
   "execution_count": 6,
   "id": "06fffc01",
   "metadata": {},
   "outputs": [
    {
     "data": {
      "text/plain": [
       "\"values: 'hello',-87.8,6\\n   Expression: *,-,/\""
      ]
     },
     "execution_count": 6,
     "metadata": {},
     "output_type": "execute_result"
    }
   ],
   "source": [
    "\"\"\"values: 'hello',-87.8,6\n",
    "   Expression: *,-,/\"\"\""
   ]
  },
  {
   "cell_type": "markdown",
   "id": "e6655baa",
   "metadata": {},
   "source": [
    "### 2. What is the difference between string and variable?"
   ]
  },
  {
   "cell_type": "code",
   "execution_count": 3,
   "id": "8d690255",
   "metadata": {},
   "outputs": [
    {
     "data": {
      "text/plain": [
       "'String is the data type and variable is entity which we use for labeling data types'"
      ]
     },
     "execution_count": 3,
     "metadata": {},
     "output_type": "execute_result"
    }
   ],
   "source": [
    "\"\"\"String is the data type and variable is entity which we use for labeling data types\"\"\""
   ]
  },
  {
   "cell_type": "markdown",
   "id": "f23254fa",
   "metadata": {},
   "source": [
    "### 3. Describe three different data types."
   ]
  },
  {
   "cell_type": "code",
   "execution_count": 4,
   "id": "168bea3d",
   "metadata": {},
   "outputs": [
    {
     "data": {
      "text/plain": [
       "'\\nint: integer is the datatype in which we can store the numerical value without fractional values.\\n\\nstring: string data type is used to store the alphabetical/ alphanumeric values. in python strings are immutable meaning that \\n        content in string cannot be altered.\\n        \\nlist: list data type is like array of elenets. we can store diffrent data types inside a list. list are mutable in python.'"
      ]
     },
     "execution_count": 4,
     "metadata": {},
     "output_type": "execute_result"
    }
   ],
   "source": [
    "\"\"\"\n",
    "int: integer is the datatype in which we can store the numerical value without fractional values.\n",
    "\n",
    "string: string data type is used to store the alphabetical/ alphanumeric values. in python strings are immutable meaning that \n",
    "        content in string cannot be altered.\n",
    "        \n",
    "list: list data type is like array of elenets. we can store diffrent data types inside a list. list are mutable in python.\"\"\""
   ]
  },
  {
   "cell_type": "markdown",
   "id": "f16c98f2",
   "metadata": {},
   "source": [
    "### 4. What is an expression made up of? What do all expressions do?"
   ]
  },
  {
   "cell_type": "code",
   "execution_count": 7,
   "id": "23d320bd",
   "metadata": {},
   "outputs": [
    {
     "data": {
      "text/plain": [
       "'Expressions are made of operators and operands .and they produce some other value'"
      ]
     },
     "execution_count": 7,
     "metadata": {},
     "output_type": "execute_result"
    }
   ],
   "source": [
    "\"\"\"Expressions are made of operators and operands .and they produce some other value\"\"\""
   ]
  },
  {
   "cell_type": "markdown",
   "id": "40c32d95",
   "metadata": {},
   "source": [
    "### 5. This assignment statements, like spam = 10. What is the difference between an expression and a statement?\n"
   ]
  },
  {
   "cell_type": "code",
   "execution_count": 8,
   "id": "dff6e423",
   "metadata": {},
   "outputs": [
    {
     "data": {
      "text/plain": [
       "'Expressions are combination of values and functions which produces and return that value while statement creates a variable and returns nothing'"
      ]
     },
     "execution_count": 8,
     "metadata": {},
     "output_type": "execute_result"
    }
   ],
   "source": [
    "\"\"\"Expressions are combination of values and functions which produces and return that value while statement creates a variable and returns nothing\"\"\""
   ]
  },
  {
   "cell_type": "markdown",
   "id": "248a104d",
   "metadata": {},
   "source": [
    "### 6. After running the following code, what does the variable bacon contain?\n",
    "bacon = 22\n",
    "\n",
    "bacon + 1\n"
   ]
  },
  {
   "cell_type": "code",
   "execution_count": 9,
   "id": "2b949b76",
   "metadata": {},
   "outputs": [
    {
     "data": {
      "text/plain": [
       "23"
      ]
     },
     "execution_count": 9,
     "metadata": {},
     "output_type": "execute_result"
    }
   ],
   "source": [
    "bacon=22\n",
    "bacon+1"
   ]
  },
  {
   "cell_type": "markdown",
   "id": "4a45e9c3",
   "metadata": {},
   "source": [
    "### 7. What should the values of the following two terms be?\n",
    "'spam' + 'spamspam'\n",
    "\n",
    "'spam' * 3\n"
   ]
  },
  {
   "cell_type": "code",
   "execution_count": 10,
   "id": "d0db534f",
   "metadata": {},
   "outputs": [
    {
     "data": {
      "text/plain": [
       "'spamspamspam'"
      ]
     },
     "execution_count": 10,
     "metadata": {},
     "output_type": "execute_result"
    }
   ],
   "source": [
    "'spam'+'spamspam'"
   ]
  },
  {
   "cell_type": "code",
   "execution_count": 11,
   "id": "b4a38800",
   "metadata": {},
   "outputs": [
    {
     "data": {
      "text/plain": [
       "'spamspamspam'"
      ]
     },
     "execution_count": 11,
     "metadata": {},
     "output_type": "execute_result"
    }
   ],
   "source": [
    "'spam'*3"
   ]
  },
  {
   "cell_type": "markdown",
   "id": "ed4b2049",
   "metadata": {},
   "source": [
    "### 8. Why is eggs a valid variable name while 100 is invalid?"
   ]
  },
  {
   "cell_type": "code",
   "execution_count": 12,
   "id": "e870a499",
   "metadata": {},
   "outputs": [
    {
     "data": {
      "text/plain": [
       "'In pyhton variable name cannot stat with number'"
      ]
     },
     "execution_count": 12,
     "metadata": {},
     "output_type": "execute_result"
    }
   ],
   "source": [
    "\"\"\"In pyhton variable name cannot stat with number\"\"\""
   ]
  },
  {
   "cell_type": "markdown",
   "id": "7747a1e6",
   "metadata": {},
   "source": [
    "### 9. What three functions can be used to get the integer, floating-point number, or string version of a value?\n"
   ]
  },
  {
   "cell_type": "code",
   "execution_count": 13,
   "id": "73afe66e",
   "metadata": {},
   "outputs": [
    {
     "data": {
      "text/plain": [
       "'\\nto get integer value we use type casting function int()\\nfor floating point number we use float()\\nand for string wwe use str()'"
      ]
     },
     "execution_count": 13,
     "metadata": {},
     "output_type": "execute_result"
    }
   ],
   "source": [
    "\"\"\"\n",
    "to get integer value we use type casting function int()\n",
    "for floating point number we use float()\n",
    "and for string wwe use str()\"\"\""
   ]
  },
  {
   "cell_type": "markdown",
   "id": "bebc4339",
   "metadata": {},
   "source": [
    "### 10. Why does this expression cause an error? How can you fix it?\n",
    "'I have eaten ' + 99 + ' burritos.'\n"
   ]
  },
  {
   "cell_type": "code",
   "execution_count": 16,
   "id": "54e465aa",
   "metadata": {},
   "outputs": [
    {
     "data": {
      "text/plain": [
       "\"here we are trying to concat the numerical value 99 with the string. due to data type mismatch we are getting error. to avoide \\nthis error we can type cast 99 into string \\nSolution: 'i have eaten'+str(99)+'burritos'\""
      ]
     },
     "execution_count": 16,
     "metadata": {},
     "output_type": "execute_result"
    }
   ],
   "source": [
    "\"\"\"here we are trying to concat the numerical value 99 with the string. due to data type mismatch we are getting error. to avoide \n",
    "this error we can type cast 99 into string \n",
    "Solution: 'i have eaten'+str(99)+'burritos'\"\"\""
   ]
  },
  {
   "cell_type": "code",
   "execution_count": null,
   "id": "08161fe2",
   "metadata": {},
   "outputs": [],
   "source": []
  }
 ],
 "metadata": {
  "kernelspec": {
   "display_name": "Python 3 (ipykernel)",
   "language": "python",
   "name": "python3"
  },
  "language_info": {
   "codemirror_mode": {
    "name": "ipython",
    "version": 3
   },
   "file_extension": ".py",
   "mimetype": "text/x-python",
   "name": "python",
   "nbconvert_exporter": "python",
   "pygments_lexer": "ipython3",
   "version": "3.9.7"
  }
 },
 "nbformat": 4,
 "nbformat_minor": 5
}
